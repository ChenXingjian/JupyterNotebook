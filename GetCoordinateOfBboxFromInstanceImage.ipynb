{
 "cells": [
  {
   "cell_type": "code",
   "execution_count": 8,
   "metadata": {},
   "outputs": [
    {
     "data": {
      "text/plain": [
       "True"
      ]
     },
     "execution_count": 8,
     "metadata": {},
     "output_type": "execute_result"
    }
   ],
   "source": [
    "import numpy as np\n",
    "import cv2\n",
    "img=np.ones((6,6,3), dtype=np.uint8)\n",
    "img[:,:,0]=32\n",
    "img[:,:,1]=32\n",
    "img[:,:,2]=32\n",
    "cv2.imwrite('test.jpg',img)"
   ]
  },
  {
   "cell_type": "code",
   "execution_count": 3,
   "metadata": {},
   "outputs": [
    {
     "name": "stdout",
     "output_type": "stream",
     "text": [
      "2448 3264\n",
      "55\n",
      "55\n",
      "[[30 30 30 ... 17 17 17]\n",
      " [30 30 30 ... 17 17 17]\n",
      " [30 30 30 ... 17 17 17]\n",
      " ...\n",
      " [15 15 15 ... 13 13 13]\n",
      " [15 15 15 ... 13 13 13]\n",
      " [15 15 15 ... 13 13 13]]\n"
     ]
    }
   ],
   "source": [
    "import numpy as np\n",
    "import cv2\n",
    "from PIL import Image\n",
    "# a nice example\n",
    "image_id = 'Ciktw3i-ar5zee06SKJElQ'\n",
    "instance_path = \"/mnt/instance/{}.png\".format(image_id)\n",
    "instance_img = cv2.imread(instance_path,0)\n",
    "height, width = instance_img.shape[0:2]\n",
    "print(height, width)\n",
    "\n",
    "print(instance_img[1559,1861])\n",
    "print(instance_img[1270,3255])\n",
    "instance_ary = np.array(instance_img, dtype=np.uint16)\n",
    "print(instance_ary)"
   ]
  },
  {
   "cell_type": "code",
   "execution_count": 28,
   "metadata": {},
   "outputs": [
    {
     "name": "stdout",
     "output_type": "stream",
     "text": [
      "[[7680 7680 7680 ... 4352 4352 4352]\n",
      " [7680 7680 7680 ... 4352 4352 4352]\n",
      " [7680 7680 7680 ... 4352 4352 4352]\n",
      " ...\n",
      " [3840 3840 3840 ... 3328 3328 3328]\n",
      " [3840 3840 3840 ... 3328 3328 3328]\n",
      " [3840 3840 3840 ... 3328 3328 3328]]\n",
      "14085\n",
      "14086\n",
      "[  512  1536  2048  3328  3840  4352  4864  4865  4866  4867  4868  6144\n",
      "  6912  7680  8192  8193 11264 11520 11521 11522 11523 11524 11525 11526\n",
      " 11527 11528 11529 11530 11531 11532 11533 11534 11535 12288 12289 12290\n",
      " 12291 12292 12293 12294 12295 12296 12800 12801 12802 12803 14080 14081\n",
      " 14082 14083 14084 14085 14086 16640]\n",
      "629 1612 788 836\n"
     ]
    },
    {
     "data": {
      "text/plain": [
       "True"
      ]
     },
     "execution_count": 28,
     "metadata": {},
     "output_type": "execute_result"
    }
   ],
   "source": [
    "instance_image = Image.open(instance_path)\n",
    "instance_array = np.array(instance_image, dtype=np.uint16)\n",
    "print(instance_array)\n",
    "print(instance_array[1559,1861])\n",
    "print(instance_array[1270,3255])\n",
    "instance_ids = np.unique(instance_array)\n",
    "print(instance_ids)\n",
    "mask=instance_array[:,:]==512\n",
    "\n",
    "instance_img[:,:]=0\n",
    "instance_img[mask]= 250\n",
    "ret, binaryimg=cv2.threshold(instance_img,127, 255, cv2.THRESH_BINARY)\n",
    "x,y,w,h=cv2.boundingRect(instance_img)\n",
    "print(x, y, w, h)\n",
    "origin_img_path='/mnt/image/Ciktw3i-ar5zee06SKJElQ.jpg'\n",
    "origin_img=cv2.imread(original_img_path)\n",
    "import numpy as np\n",
    "import os\n",
    "from PIL import Image\n",
    "\n",
    "working_dir='/mnt/instance/'\n",
    "# instance文件夹下是16位的灰度图，可以容纳最多256类，而且每类可以有256个instance_id\n",
    "txt_root='/home/arc-cxj9600/transform-cityspace/bboxtxt'\n",
    "for root, dirs, files in os.walk(working_dir):\n",
    "    for i, file in enumerate(files):\n",
    "        #if i==1:\n",
    "        #    break\n",
    "        file_path=os.path.join(working_dir, file)\n",
    "        instance_image = Image.open(file_path)\n",
    "        auxiliary_image = cv2.imread(file_path,0)\n",
    "        instance_array = np.array(instance_image, dtype=np.uint16)\n",
    "        \n",
    "        #获取每个像素点的类别标签和instance_id标签\n",
    "        instance_label_array = np.array(instance_array / 256, dtype=np.uint8)\n",
    "        instance_id_array = np.array(instance_array % 255, dtype=np.uint8)\n",
    "        \n",
    "        instance_ids = np.unique(instance_array)\n",
    "        \n",
    "        instance_list=[]\n",
    "        for instance_value in instance_ids:\n",
    "            mask=instance_array[:,:]==instance_value\n",
    "            label=int(instance_value / 256)\n",
    "            \n",
    "            # 获得某个instance的二值图\n",
    "            auxiliary_image[:,:]=0\n",
    "            auxiliary_image[mask]=255\n",
    "            \n",
    "            # 得到某个instance的外接矩形参数， [x,y]是左上点坐标， [x+w, y+h]是右下点坐标\n",
    "            x, y, w, h=cv2.boundingRect(auxiliary_image)\n",
    "            instance_list.append([label,x, y, x+w, y+h])\n",
    "            \n",
    "        final_instance_list=[]\n",
    "        # Python中没有switch语句，可以使用dict来实现这一功能\n",
    "        label_mapping_dict={27:1, 13:2, 15:2, 17:3, 19:4, 20:4, 21:4, 22:4, 1:4, 30:5, 54:6, 56:6, 52:6, 57:6, 59:6, 60:6, 61:6, 62:6, 24:7}\n",
    "        for idx, bbox in enumerate(instance_list):\n",
    "            if bbox[0] in label_mapping_dict.keys():\n",
    "                bbox[0]=label_mapping_dict[bbox[0]]\n",
    "                final_instance_list.append(bbox)\n",
    "        \n",
    "        txtfile_name=os.path.join(txt_root,'{}.txt'.format(file[:-4]))\n",
    "        with open(txtfile_name, 'w') as f:\n",
    "            print(str(bbox)[1:-2].replace(',',' '))\n",
    "            for bbox in final_instance_list:\n",
    "                f.write(str(bbox)[1:-2].replace(',', ' '))\n",
    "                f.write('\\n')\n",
    "            n_img_path)\n",
    "cv2.rectangle(origin_img, (x,y), (x+w, y+h), (0,255,0),2)\n",
    "cv2.imwrite('instance_example.png',origin_img)"
   ]
  },
  {
   "cell_type": "code",
   "execution_count": 13,
   "metadata": {},
   "outputs": [
    {
     "name": "stdout",
     "output_type": "stream",
     "text": [
      "[[0 0 0 ... 0 0 0]\n",
      " [0 0 0 ... 0 0 0]\n",
      " [0 0 0 ... 0 0 0]\n",
      " ...\n",
      " [0 0 0 ... 0 0 0]\n",
      " [0 0 0 ... 0 0 0]\n",
      " [0 0 0 ... 0 0 0]]\n",
      "5\n",
      "6\n"
     ]
    }
   ],
   "source": [
    "instance_label_array = np.array(instance_array / 256, dtype=np.uint8)\n",
    "instance_ids_array = np.array(instance_array % 256, dtype=np.uint8)\n",
    "print(instance_ids_array)\n",
    "print(instance_ids_array[1559,1861])\n",
    "print(instance_ids_array[1270,3255])"
   ]
  },
  {
   "cell_type": "code",
   "execution_count": null,
   "metadata": {},
   "outputs": [],
   "source": [
    "import numpy as np\n",
    "import os\n",
    "from PIL import Image\n",
    "\n",
    "working_dir='/mnt/instance/'\n",
    "txt_root='/home/arc-cxj9600/transform-cityspace/bboxtxt'\n",
    "for root, dirs, files in os.walk(working_dir):\n",
    "    for i, file in enumerate(files):\n",
    "        #if i==1:\n",
    "        #    break\n",
    "        file_path=os.path.join(working_dir, file)\n",
    "        instance_image = Image.open(file_path)\n",
    "        auxiliary_image = cv2.imread(file_path,0)\n",
    "        instance_array = np.array(instance_image, dtype=np.uint16)\n",
    "        \n",
    "        instance_label_array = np.array(instance_array / 256, dtype=np.uint8)\n",
    "        instance_id_array = np.array(instance_array % 255, dtype=np.uint8)\n",
    "        \n",
    "        instance_ids = np.unique(instance_array)\n",
    "        \n",
    "        instance_list=[]\n",
    "        for instance_value in instance_ids:\n",
    "            mask=instance_array[:,:]==instance_value\n",
    "            label=int(instance_value / 256)\n",
    "            \n",
    "            # 获得某个instance的二值图\n",
    "            auxiliary_image[:,:]=0\n",
    "            auxiliary_image[mask]=255\n",
    "            \n",
    "            # 得到某个instance的外接矩形参数， [x,y]是左上点坐标， [x+w, y+h]是右下点坐标\n",
    "            x, y, w, h=cv2.boundingRect(auxiliary_image)\n",
    "            #print(x,y,w,h)\n",
    "            instance_list.append([label,x, y, x+w, y+h])\n",
    "            \n",
    "        final_instance_list=[]\n",
    "        label_mapping_dict={27:1, 13:2, 15:2, 17:3, 19:4, 20:4, 21:4, 22:4, 1:4, 30:5, 54:6, 55:6, 56:6, 52:6, 57:6, 59:6, 60:6, 61:6, 62:6, 24:7}\n",
    "        for idx, bbox in enumerate(instance_list):\n",
    "            if bbox[0] in label_mapping_dict.keys():\n",
    "                bbox[0]=label_mapping_dict[bbox[0]]\n",
    "                final_instance_list.append(bbox)\n",
    "        \n",
    "        txtfile_name=os.path.join(txt_root,'{}.txt'.format(file[:-4]))\n",
    "        with open(txtfile_name, 'w') as f:\n",
    "            for bbox in final_instance_list:\n",
    "                f.write(str(bbox)[1:-1].replace(',', ' '))\n",
    "                f.write('\\n')\n",
    "            \n",
    "                "
   ]
  },
  {
   "cell_type": "code",
   "execution_count": 11,
   "metadata": {},
   "outputs": [
    {
     "name": "stdout",
     "output_type": "stream",
     "text": [
      "2448 3264\n",
      "[[6912 6912 6912 ... 6912 6912 6912]\n",
      " [6912 6912 6912 ... 6912 6912 6912]\n",
      " [6912 6912 6912 ... 6912 6912 6912]\n",
      " ...\n",
      " [3328 3328 3328 ... 3328 3328 3328]\n",
      " [3328 3328 3328 ... 3328 3328 3328]\n",
      " [3328 3328 3328 ... 3328 3328 3328]]\n",
      "[    0   512  1536  3328  3840  4352  6144  6912  7424  7680 11264 11265\n",
      " 11266 11267 11268 11269 11270 11271 11272 11273 11274 11275 11520 11521\n",
      " 11522 11523 11524 11525 11526 11527 11528 11529 11530 11531 11532 11533\n",
      " 11534 11535 11536 11537 11538 11539 11540 11541 11542 11543 11544 11545\n",
      " 11546 11547 11548 11549 11550 11551 11552 11553 11554 11555 11556 11557\n",
      " 11558 11559 11560 12800 12801 12802 12803 14080 14081 14082 14083 14084\n",
      " 14085 16128 16640]\n",
      "[ 0  2  6 13 15 17 24 27 29 30 44 44 44 44 44 44 44 44 44 44 44 44 45 45\n",
      " 45 45 45 45 45 45 45 45 45 45 45 45 45 45 45 45 45 45 45 45 45 45 45 45\n",
      " 45 45 45 45 45 45 45 45 45 45 45 45 45 45 45 50 50 50 50 55 55 55 55 55\n",
      " 55 63 65]\n",
      "[ 0  0  0  0  0  0  0  0  0  0  0  1  2  3  4  5  6  7  8  9 10 11  0  1\n",
      "  2  3  4  5  6  7  8  9 10 11 12 13 14 15 16 17 18 19 20 21 22 23 24 25\n",
      " 26 27 28 29 30 31 32 33 34 35 36 37 38 39 40  0  1  2  3  0  1  2  3  4\n",
      "  5  0  0]\n"
     ]
    }
   ],
   "source": [
    "# This cell and the cell below are used to test if the bbox coordinates (x,y) and (x+w,y+h) are correct \n",
    "import numpy as np\n",
    "import cv2\n",
    "from PIL import Image\n",
    "# a nice example\n",
    "image_id = 'bjLOBklnyEIKyfeVvR4pmA'\n",
    "instance_path = \"/mnt/instance/{}.png\".format(image_id)\n",
    "instance_img = cv2.imread(instance_path,0)\n",
    "height, width = instance_img.shape[0:2]\n",
    "print(height, width)\n",
    "instance_image = Image.open(instance_path)\n",
    "instance_ary = np.array(instance_img, dtype=np.uint16)\n",
    "instance_array = np.array(instance_image, dtype=np.uint16)\n",
    "print(instance_array)\n",
    "\n",
    "instance_ids = np.unique(instance_array)\n",
    "print(instance_ids)\n",
    "instance_label = instance_ids // 256\n",
    "instance_id = instance_ids % 256\n",
    "print(instance_label)\n",
    "print(instance_id)"
   ]
  },
  {
   "cell_type": "code",
   "execution_count": 12,
   "metadata": {},
   "outputs": [
    {
     "name": "stdout",
     "output_type": "stream",
     "text": [
      "1351 1495 149 127\n"
     ]
    },
    {
     "data": {
      "text/plain": [
       "True"
      ]
     },
     "execution_count": 12,
     "metadata": {},
     "output_type": "execute_result"
    }
   ],
   "source": [
    "mask=instance_array[:,:]==14085\n",
    "instance_img[:,:]=0\n",
    "instance_img[mask]=255\n",
    "x, y, w, h=cv2.boundingRect(instance_img)\n",
    "print(x,y,w,h)\n",
    "orgimg_path = \"/mnt/image/{}.jpg\".format(image_id)\n",
    "orgimg=cv2.imread(orgimg_path)\n",
    "cv2.rectangle(orgimg,(x,y),(x+w, y+h),(0,0,255),2)\n",
    "cv2.imwrite('instance_example.png',orgimg)"
   ]
  },
  {
   "cell_type": "code",
   "execution_count": 13,
   "metadata": {},
   "outputs": [
    {
     "name": "stdout",
     "output_type": "stream",
     "text": [
      "2  0  1489  3264  244\n",
      "\n",
      "2  1741  1556  3264  181\n",
      "\n",
      "3  2290  975  3264  164\n",
      "\n",
      "7  77  1544  2895  244\n",
      "\n",
      "1  0  0  3264  136\n",
      "\n",
      "5  0  656  3101  161\n",
      "\n"
     ]
    }
   ],
   "source": [
    "bbox_path=\"/mnt/bboxtxt/{}.txt\".format(image_id)\n",
    "for line in open(bbox_path, \"r\"):\n",
    "    print(line)"
   ]
  },
  {
   "cell_type": "code",
   "execution_count": 34,
   "metadata": {},
   "outputs": [
    {
     "name": "stdout",
     "output_type": "stream",
     "text": [
      "2  0  1699  3264  2335\n",
      "\n",
      "3  0  498  3264  1710\n",
      "\n",
      "4  654  1451  727  1599\n",
      "\n",
      "4  1423  1601  1452  1650\n",
      "\n",
      "4  1485  1634  1512  1664\n",
      "\n",
      "4  1584  1687  1603  1706\n",
      "\n",
      "4  1172  1547  1220  1620\n",
      "\n",
      "7  0  1699  3264  2284\n",
      "\n",
      "1  0  0  3264  1661\n",
      "\n",
      "6  1171  1593  1218  1619\n",
      "\n",
      "6  1723  1702  1775  1714\n",
      "\n",
      "6  1831  1696  1891  1719\n",
      "\n",
      "6  2030  1656  2105  1729\n",
      "\n",
      "6  1878  1612  2034  1737\n",
      "\n"
     ]
    },
    {
     "data": {
      "text/plain": [
       "True"
      ]
     },
     "execution_count": 34,
     "metadata": {},
     "output_type": "execute_result"
    }
   ],
   "source": [
    "import os\n",
    "import sys\n",
    "import cv2\n",
    "import numpy as np\n",
    "\n",
    "basedir = \"/mnt\"\n",
    "bboxdir = os.path.join(basedir, \"bboxtxt\")\n",
    "maskdir = os.path.join(basedir, \"annotation_gray256256\")\n",
    "imagedir = os.path.join(basedir, \"image\")\n",
    "\n",
    "bboxtxt_name=\"__mcuCxPdWr9uat9bFikyg\"\n",
    "bbox_path =  os.path.join(bboxdir, bboxtxt_name+'.txt')\n",
    "img_path =  os.path.join(imagedir, bboxtxt_name+'.jpg')\n",
    "\n",
    "_COLOR_ = ((255,0,0), (0,255,0), (0,0,255), (255,255,0), (255,0,255),(0,255,255), (255,128,0), (128,0,255))\n",
    "\n",
    "img = cv2.imread(img_path)\n",
    "# 读取.txt文件中的每一行\n",
    "# for line in open(bbox_path, 'r')\n",
    "for line in open(bbox_path, 'r'):\n",
    "    print(line)\n",
    "    ind, xmin, ymin, xmax, ymax = line.split(\"  \")\n",
    "    ind, xmin, ymin, xmax, ymax = int(ind), int(xmin), int(ymin), int(xmax), int(ymax)\n",
    "    \n",
    "    if ind in [4, 6]:\n",
    "        img = cv2.rectangle(img, (xmin, ymin), (xmax, ymax), _COLOR_[ind], 3)\n",
    "        \n",
    "cv2.imwrite('instance_example.jpg', img)"
   ]
  },
  {
   "cell_type": "code",
   "execution_count": null,
   "metadata": {},
   "outputs": [],
   "source": []
  }
 ],
 "metadata": {
  "kernelspec": {
   "display_name": "Python 3",
   "language": "python",
   "name": "python3"
  },
  "language_info": {
   "codemirror_mode": {
    "name": "ipython",
    "version": 3
   },
   "file_extension": ".py",
   "mimetype": "text/x-python",
   "name": "python",
   "nbconvert_exporter": "python",
   "pygments_lexer": "ipython3",
   "version": "3.5.2"
  }
 },
 "nbformat": 4,
 "nbformat_minor": 2
}
